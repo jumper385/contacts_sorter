{
 "cells": [
  {
   "cell_type": "code",
   "execution_count": 105,
   "metadata": {},
   "outputs": [],
   "source": [
    "def url_parser(filename):\n",
    "    \"\"\"outputs a csv as a multidimensional array\"\"\"\n",
    "    raw = [row.strip().split(',') for row in open(filename)]\n",
    "    return raw\n",
    "    \n",
    "# url_parser('contacts1.csv')[0:5]"
   ]
  },
  {
   "cell_type": "code",
   "execution_count": 106,
   "metadata": {},
   "outputs": [],
   "source": [
    "def csv_to_dict(filename):\n",
    "    \"\"\"outputs a dictionary from a csv and merges duplicates to account for repetition in csv\"\"\"\n",
    "    csv_array = url_parser(filename)\n",
    "    heading = csv_array[0]\n",
    "    data = csv_array[1:]\n",
    "    newDict = {}\n",
    "    \n",
    "    for row in data:\n",
    "        firstname, lastname, mobile, email1, email2 = row\n",
    "        fullname = \"~||sep||~\".join([firstname, lastname])\n",
    "        emailArray = [x for x in [*[email1.strip()], *[email2.strip()]] if x]\n",
    "        \n",
    "        if fullname not in newDict.keys():\n",
    "            newDict[fullname] = {\n",
    "                \"mobile\": [mobile] if mobile else [],\n",
    "                \"emails\": emailArray\n",
    "            }\n",
    "        else:\n",
    "            newDict[fullname]['mobile'] = [*newDict[fullname]['mobile'], mobile]\n",
    "            newDict[fullname]['emails'] = [*newDict[fullname]['emails'], *emailArray]\n",
    "    \n",
    "    return newDict\n",
    "    \n",
    "# csv_to_dict('contacts1.csv')"
   ]
  },
  {
   "cell_type": "code",
   "execution_count": 108,
   "metadata": {},
   "outputs": [],
   "source": [
    "def dict_to_csv(target_dict, filename):\n",
    "    \"\"\"translates dictionary into csv file - repetiotions are enumerated as columns\"\"\"\n",
    "    keys = target_dict.keys()\n",
    "    \n",
    "    mobile_dict = {}\n",
    "    email_dict = {}\n",
    "    \n",
    "    contactFile = open(f'{filename}','w')\n",
    "    \n",
    "    for name in target_dict.keys():\n",
    "        firstname, lastname = name.split('~||sep||~')\n",
    "        mobile_array = target_dict[name]['mobile']\n",
    "        new_string = ','.join([firstname, lastname, *mobile_array, *target_dict[name]['emails']])\n",
    "        contactFile.write(new_string)\n",
    "        contactFile.write('\\n')\n",
    "        \n",
    "contacts_dict = csv_to_dict('contacts1.csv')\n",
    "dict_to_csv(contacts_dict,'output.csv')"
   ]
  },
  {
   "cell_type": "code",
   "execution_count": null,
   "metadata": {},
   "outputs": [],
   "source": []
  }
 ],
 "metadata": {
  "kernelspec": {
   "display_name": "Python 3",
   "language": "python",
   "name": "python3"
  },
  "language_info": {
   "codemirror_mode": {
    "name": "ipython",
    "version": 3
   },
   "file_extension": ".py",
   "mimetype": "text/x-python",
   "name": "python",
   "nbconvert_exporter": "python",
   "pygments_lexer": "ipython3",
   "version": "3.8.5"
  }
 },
 "nbformat": 4,
 "nbformat_minor": 4
}

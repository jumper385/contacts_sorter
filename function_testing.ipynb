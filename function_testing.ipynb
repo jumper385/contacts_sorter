{
 "cells": [
  {
   "cell_type": "code",
   "execution_count": 1,
   "metadata": {},
   "outputs": [],
   "source": [
    "def csv_parser(filename):\n",
    "    \"\"\"outputs a csv as a multidimensional array\"\"\"\n",
    "    raw = [row.strip().split(',') for row in open(filename)]\n",
    "    return raw\n",
    "    \n",
    "# url_parser('contacts1.csv')[0:5]"
   ]
  },
  {
   "cell_type": "code",
   "execution_count": 2,
   "metadata": {},
   "outputs": [],
   "source": [
    "def csv_to_dict(filename):\n",
    "    \"\"\"outputs a dictionary from a csv and merges duplicates to account for repetition in csv\"\"\"\n",
    "    csv_array = csv_parser(filename)\n",
    "    heading = csv_array[0]\n",
    "    data = csv_array[1:]\n",
    "    newDict = {}\n",
    "    \n",
    "    for row in data:\n",
    "        firstname, lastname, mobile, email1, email2 = row\n",
    "        fullname = \"~||sep||~\".join([firstname, lastname])\n",
    "        emailArray = [x for x in [*[email1.strip()], *[email2.strip()]] if x]\n",
    "        \n",
    "        if fullname not in newDict.keys():\n",
    "            newDict[fullname] = {\n",
    "                \"mobile\": [mobile] if mobile else [],\n",
    "                \"emails\": emailArray\n",
    "            }\n",
    "        else:\n",
    "            newDict[fullname]['mobile'] = [*newDict[fullname]['mobile'], mobile]\n",
    "            newDict[fullname]['emails'] = [*newDict[fullname]['emails'], *emailArray]\n",
    "    \n",
    "    return newDict\n",
    "    \n",
    "# csv_to_dict('contacts1.csv')"
   ]
  },
  {
   "cell_type": "code",
   "execution_count": 3,
   "metadata": {},
   "outputs": [],
   "source": [
    "def dict_to_csv(target_dict, filename):\n",
    "    \"\"\"translates dictionary into csv file - repetiotions are enumerated as columns\"\"\"\n",
    "    root_keys = [*target_dict.keys()]\n",
    "    subkeys = [*target_dict[root_keys[0]].keys()]\n",
    "    max_key_len = {}\n",
    "    \n",
    "    new_file = open(filename,'w')\n",
    "    \n",
    "    for root_key in root_keys:\n",
    "        for subkey in subkeys:\n",
    "            entries = target_dict[root_key][subkey]\n",
    "            \n",
    "            if subkey not in max_key_len.keys():\n",
    "                max_key_len[subkey] = len(entries)\n",
    "            else:\n",
    "                max_key_len[subkey] = len(entries) if len(entries) > max_key_len[subkey] else max_key_len[subkey]\n",
    "    \n",
    "    headings = ['firstname','lastname']\n",
    "    for name in sorted([*max_key_len.keys()]):\n",
    "        headings = [*headings, *[f'{name}{x}' for x in range(max_key_len[name])]]\n",
    "    \n",
    "    new_file.write(f'{\",\".join(headings)}\\n')\n",
    "    \n",
    "    for root_key in root_keys:\n",
    "        row_entry = [*root_key.split('~||sep||~')]\n",
    "        for subkey in sorted(subkeys):\n",
    "            raw_entries = target_dict[root_key][subkey]\n",
    "            padded_entries = raw_entries + ['' for x in range(0,max_key_len[subkey] - len(raw_entries))]\n",
    "            row_entry = [*row_entry,*padded_entries]\n",
    "        new_file.write(','.join(row_entry)+'\\n')\n",
    "    \n",
    "    new_file.close()\n",
    "    \n",
    "#     contactFile = open(f'{filename}','w')\n",
    "    \n",
    "#     for name in target_dict.keys():\n",
    "#         firstname, lastname = name.split('~||sep||~')\n",
    "#         mobile_array = target_dict[name]['mobile']\n",
    "#         new_string = ','.join([firstname, lastname, *mobile_array, *target_dict[name]['emails']])\n",
    "#         contactFile.write(new_string)\n",
    "#         contactFile.write('\\n')\n",
    "        \n",
    "contacts_dict = csv_to_dict('contacts1.csv')\n",
    "dict_to_csv(contacts_dict,'output.csv')"
   ]
  },
  {
   "cell_type": "code",
   "execution_count": 4,
   "metadata": {},
   "outputs": [],
   "source": [
    "def merge_dict(dict1, dict2):\n",
    "    \"\"\"merges dictionaries together - concatenates arrays of matching fields and returns set of unique concatenations\"\"\"\n",
    "    matching = [key for key in dict1.keys() if key in dict2.keys() ]\n",
    "    mismatch = [key for key in dict1.keys() if key not in dict2.keys() ]\n",
    "    \n",
    "    for key in matching:\n",
    "        data_keys = [*dict1[key].keys()]\n",
    "        for subfield in data_keys:\n",
    "            dict1[key][subfield] = [*set([*dict1[key][subfield], *dict2[key][subfield]])]\n",
    "            \n",
    "    for key in mismatch:\n",
    "        dict1.update(dict2)\n",
    "    \n",
    "    return dict1\n",
    "\n",
    "new_dict = merge_dict(csv_to_dict('contacts1.csv'), csv_to_dict('contacts2.csv'))\n",
    "dict_to_csv(new_dict, 'output.csv')"
   ]
  },
  {
   "cell_type": "code",
   "execution_count": 7,
   "metadata": {},
   "outputs": [],
   "source": [
    "def main(filename1, filename2, outputname):\n",
    "    \"\"\"main function to do all the operations\"\"\"\n",
    "    \n",
    "    csv1 = csv_to_dict(filename1)\n",
    "    csv2 = csv_to_dict(filename2)\n",
    "    \n",
    "    merged_contacts = merge_dict(csv1, csv2)\n",
    "    \n",
    "    dict_to_csv(merged_contacts, outputname)\n",
    "\n",
    "# main('contacts1.csv', 'contacts2.csv', 'hmmm.csv')"
   ]
  },
  {
   "cell_type": "code",
   "execution_count": 16,
   "metadata": {},
   "outputs": [
    {
     "data": {
      "text/plain": [
       "{'filename1': 'contacts1.csv',\n",
       " 'filename2': 'contacts1.csv',\n",
       " 'outname': 'outfile.csv'}"
      ]
     },
     "execution_count": 16,
     "metadata": {},
     "output_type": "execute_result"
    }
   ],
   "source": [
    "def parse_conf(conffile):\n",
    "    configs = [tuple(x.split(':')) for x in open(conffile).read().split('|')]\n",
    "    return dict(configs)\n",
    "        \n",
    "parse_conf('conf')"
   ]
  },
  {
   "cell_type": "code",
   "execution_count": null,
   "metadata": {},
   "outputs": [],
   "source": []
  }
 ],
 "metadata": {
  "kernelspec": {
   "display_name": "Python 3",
   "language": "python",
   "name": "python3"
  },
  "language_info": {
   "codemirror_mode": {
    "name": "ipython",
    "version": 3
   },
   "file_extension": ".py",
   "mimetype": "text/x-python",
   "name": "python",
   "nbconvert_exporter": "python",
   "pygments_lexer": "ipython3",
   "version": "3.8.5"
  }
 },
 "nbformat": 4,
 "nbformat_minor": 4
}

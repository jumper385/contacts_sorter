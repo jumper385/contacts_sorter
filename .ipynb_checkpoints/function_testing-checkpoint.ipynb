{
 "cells": [
  {
   "cell_type": "code",
   "execution_count": 38,
   "metadata": {},
   "outputs": [],
   "source": [
    "def csv_parser(filename):\n",
    "    \"\"\"outputs a csv as a multidimensional array\"\"\"\n",
    "    raw = [row.strip().split(',') for row in open(filename)] # clean, split by commas and append to a list\n",
    "    return raw # return the list"
   ]
  },
  {
   "cell_type": "code",
   "execution_count": 39,
   "metadata": {},
   "outputs": [],
   "source": [
    "def csv_to_dict(filename):\n",
    "    \"\"\"outputs a dictionary from a csv and merges duplicates to account for repetition in csv\"\"\"\n",
    "    csv_array = csv_parser(filename) # parses csv to list of rows (type list)\n",
    "    heading, data= csv_array[0], csv_array[1:] # splits the data into headings and contacts \n",
    "    newDict = {} # open a new dictionary please!\n",
    "    \n",
    "    for row in data: # Now we're gonna iterate through each row list\n",
    "        firstname, lastname, mobile, email1, email2 = row # we assume each row has the following structure so we breakdown as such\n",
    "        fullname = \"~||sep||~\".join([firstname, lastname]) # grabs the first and last name and joins them with a seperator symbol which we can use later to break down the name into first and last name again\n",
    "        emailArray = [x for x in [*[email1.strip()], *[email2.strip()]] if x] # grabs the emails, cleans theme and puts them into an array which we'll place into the dictionary later\n",
    "        \n",
    "        newDict.setdefault(fullname,{\"mobile\":[] if mobile else [],\"emails\":[]}) # if entry with key=fullname doesn't exist we start it up as such\n",
    "        newDict[fullname]['mobile'] = [*set( filter(lambda x: x != '', [*newDict[fullname]['mobile'], mobile]) )] # append and only keep the unique mobile numbers\n",
    "        newDict[fullname]['emails'] = [*set( filter(lambda x: x != '', [*newDict[fullname]['emails'], *emailArray]))] # append and only keep the unique emails\n",
    "    \n",
    "    return newDict # finally return the data thanks\n",
    "    \n",
    "# csv_to_dict('contacts1.csv')"
   ]
  },
  {
   "cell_type": "code",
   "execution_count": 37,
   "metadata": {},
   "outputs": [
    {
     "name": "stdout",
     "output_type": "stream",
     "text": [
      "['mobile', 'emails']\n"
     ]
    }
   ],
   "source": [
    "def dict_to_csv(target_dict, filename):\n",
    "    \"\"\"translates dictionary into csv file - repetiotions are enumerated as columns\"\"\"\n",
    "    root_keys = [*target_dict.keys()] # holds the fullnames\n",
    "    subkeys = [*target_dict[root_keys[0]].keys()] # holds the email and mobile keys\n",
    "    max_key_len = {} # new dictionary we use to help define if we'll need email1, email2 ect...\n",
    "    \n",
    "    new_file = open(filename,'w') # open the output and write to it\n",
    "    \n",
    "    for root_key in root_keys: # looks through the full names\n",
    "        for subkey in subkeys: # looks through each entry\n",
    "            entries = target_dict[root_key][subkey] # grabs the entries for each fullname's email and mobile\n",
    "            \n",
    "            max_key_len.setdefault(subkey,int()) # if entry in max key length doesn't exist, we'll set it up as such\n",
    "            max_key_len[subkey] = len(entries) if len(entries) > max_key_len[subkey] else max_key_len[subkey] # if the current length we see is longer than the previous length, we change it else we leave it as is \n",
    "    \n",
    "    headings = ['firstname','lastname'] # we need these headings in the final csv\n",
    "    for name in sorted([*max_key_len.keys()]): # grabs the mobile and email keys  \n",
    "        headings = [*headings, *[f'{name}{x}' for x in range(max_key_len[name])]] # makes the headings based on the max key len\n",
    "    \n",
    "    new_file.write(f'{\",\".join(headings)}\\n') # write headings to the file as a csv\n",
    "    \n",
    "    for root_key in root_keys:\n",
    "        row_entry = [*root_key.split('~||sep||~')] # split so that we have the full names \n",
    "        for subkey in sorted(subkeys): # for each subkey, we need to format them into an array\n",
    "            raw_entries = target_dict[root_key][subkey]\n",
    "            padded_entries = raw_entries + ['' for x in range(0,max_key_len[subkey] - len(raw_entries))] # any empty entries are made into ''\n",
    "            row_entry = [*row_entry,*padded_entries]\n",
    "        new_file.write(','.join(row_entry)+'\\n') # write each row as csv\n",
    "    \n",
    "    new_file.close() # close and we're golden\n",
    "        \n",
    "contacts_dict = csv_to_dict('contacts1.csv')\n",
    "dict_to_csv(contacts_dict,'output.csv')"
   ]
  },
  {
   "cell_type": "code",
   "execution_count": 32,
   "metadata": {},
   "outputs": [],
   "source": [
    "def merge_dict(dict1, dict2):\n",
    "    \"\"\"merges dictionaries together - concatenates arrays of matching fields and returns set of unique concatenations\"\"\"\n",
    "    matching = [key for key in dict1.keys() if key in dict2.keys() ] # finds fullname matches from dict 1 in dict 2\n",
    "    mismatch = [key for key in dict1.keys() if key not in dict2.keys() ] # finds fullname mismatches from dict1 in dict 2\n",
    "    \n",
    "    for key in matching: # if they match, we just append\n",
    "        data_keys = [*dict1[key].keys()] # base keys (mobile and emails) from dict 1\n",
    "        for subfield in data_keys: \n",
    "            dict1[key][subfield] = [*set([*dict1[key][subfield], *dict2[key][subfield]])] # for each field (mobile and email) merge from the two dictionaries and get the unique values and chuck them in an array\n",
    "            \n",
    "    for key in mismatch: # just update the dicitonary with new dictionary fields of the fullnames\n",
    "        dict1.update(dict2)\n",
    "    \n",
    "    return dict1\n",
    "\n",
    "new_dict = merge_dict(csv_to_dict('contacts1.csv'), csv_to_dict('contacts2.csv'))\n",
    "dict_to_csv(new_dict, 'output.csv')"
   ]
  },
  {
   "cell_type": "code",
   "execution_count": 33,
   "metadata": {},
   "outputs": [],
   "source": [
    "def main(filename1, filename2, outputname):\n",
    "    \"\"\"main function to do all the operations\"\"\"\n",
    "    \n",
    "    csv1 = csv_to_dict(filename1) \n",
    "    csv2 = csv_to_dict(filename2)\n",
    "    \n",
    "    merged_contacts = merge_dict(csv1, csv2)\n",
    "    \n",
    "    dict_to_csv(merged_contacts, outputname)\n",
    "\n",
    "# main('contacts1.csv', 'contacts2.csv', 'hmmm.csv')"
   ]
  },
  {
   "cell_type": "code",
   "execution_count": 34,
   "metadata": {},
   "outputs": [
    {
     "data": {
      "text/plain": [
       "{'filename1': 'contacts1.csv',\n",
       " 'filename2': 'contacts1.csv',\n",
       " 'outname': 'outfile.csv'}"
      ]
     },
     "execution_count": 34,
     "metadata": {},
     "output_type": "execute_result"
    }
   ],
   "source": [
    "def parse_conf(conffile):\n",
    "    configs = [tuple(x.split(':')) for x in open(conffile).read().split('|')] # work with the preformatted string - splits for the colons and the |\n",
    "    return dict(configs)\n",
    "        \n",
    "parse_conf('conf')"
   ]
  },
  {
   "cell_type": "code",
   "execution_count": null,
   "metadata": {},
   "outputs": [],
   "source": []
  }
 ],
 "metadata": {
  "kernelspec": {
   "display_name": "Python 3",
   "language": "python",
   "name": "python3"
  },
  "language_info": {
   "codemirror_mode": {
    "name": "ipython",
    "version": 3
   },
   "file_extension": ".py",
   "mimetype": "text/x-python",
   "name": "python",
   "nbconvert_exporter": "python",
   "pygments_lexer": "ipython3",
   "version": "3.7.4"
  }
 },
 "nbformat": 4,
 "nbformat_minor": 4
}
